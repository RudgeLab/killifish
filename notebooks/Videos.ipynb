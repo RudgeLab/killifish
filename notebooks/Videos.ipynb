{
 "cells": [
  {
   "cell_type": "code",
   "execution_count": 2,
   "metadata": {},
   "outputs": [],
   "source": [
    "import os\n",
    "import glob\n",
    "import matplotlib.pyplot as plt\n",
    "import numpy as np\n",
    "import cv2\n",
    "from pdf2image import convert_from_path\n",
    "\n",
    "# no muestra los warnings\n",
    "import warnings\n",
    "warnings.filterwarnings('ignore')"
   ]
  },
  {
   "cell_type": "code",
   "execution_count": 10,
   "metadata": {},
   "outputs": [],
   "source": [
    "path = 'pdfs/'\n",
    "files = os.listdir(path)\n",
    "for file in files:\n",
    "    pages = convert_from_path(path+file)\n",
    "    for page in pages:\n",
    "        page.save(f\"pngs/{file}.png\", 'PNG')"
   ]
  },
  {
   "cell_type": "code",
   "execution_count": 6,
   "metadata": {},
   "outputs": [],
   "source": []
  },
  {
   "cell_type": "code",
   "execution_count": 13,
   "metadata": {},
   "outputs": [],
   "source": [
    "# función para hacer el video: toma archivos .png y construye un video\n",
    "# recibe como parámetros image_folder (carpeta donde están los archivos .png guardados) \n",
    "#y video_name (nombre archivo de video)\n",
    "def make_video(image_folder, video_name):\n",
    "    images = [img for img in os.listdir(image_folder) if img.endswith(\".png\")]\n",
    "    images.sort()\n",
    "    frame = cv2.imread(os.path.join(image_folder, images[0]))\n",
    "    height, width, layers = frame.shape\n",
    "\n",
    "    video = cv2.VideoWriter(video_name, 0, 4, (width,height))\n",
    "\n",
    "    for image in images:\n",
    "        video.write(cv2.imread(os.path.join(image_folder, image)))\n",
    "\n",
    "    video.release()"
   ]
  },
  {
   "cell_type": "code",
   "execution_count": 14,
   "metadata": {},
   "outputs": [],
   "source": [
    "path = 'pngs/'\n",
    "make_video(path, 'video.avi')"
   ]
  },
  {
   "cell_type": "code",
   "execution_count": 6,
   "metadata": {},
   "outputs": [
    {
     "name": "stdout",
     "output_type": "stream",
     "text": [
      "Wc__0_875__psi__2__D__1__25\n",
      "Wc__0_75__psi__2__D__1__25\n"
     ]
    }
   ],
   "source": [
    "path = 'pngs/'\n",
    "files = os.listdir(path)\n",
    "files.sort()\n",
    "#folders_0_5 = os.listdir(path05)\n",
    "for file in files:\n",
    "    #vname = folder.split('ftax')[0]+folder.split('ftax')[1].split('__')[4]\n",
    "    #print(vname)\n",
    "    make_video(path02+folder, vname+'.avi')"
   ]
  },
  {
   "cell_type": "code",
   "execution_count": 5,
   "metadata": {},
   "outputs": [
    {
     "data": {
      "text/plain": [
       "'/home/gyanez/Code/killifish/notebooks'"
      ]
     },
     "execution_count": 5,
     "metadata": {},
     "output_type": "execute_result"
    }
   ],
   "source": [
    "os.getcwd()"
   ]
  },
  {
   "cell_type": "code",
   "execution_count": 26,
   "metadata": {},
   "outputs": [],
   "source": [
    "glob.glob('./*.txt')\n",
    "# hacer video\n",
    "make_video('plots/', 'test.avi')"
   ]
  }
 ],
 "metadata": {
  "kernelspec": {
   "display_name": "Python 3",
   "language": "python",
   "name": "python3"
  },
  "language_info": {
   "codemirror_mode": {
    "name": "ipython",
    "version": 3
   },
   "file_extension": ".py",
   "mimetype": "text/x-python",
   "name": "python",
   "nbconvert_exporter": "python",
   "pygments_lexer": "ipython3",
   "version": "3.7.7"
  }
 },
 "nbformat": 4,
 "nbformat_minor": 4
}
