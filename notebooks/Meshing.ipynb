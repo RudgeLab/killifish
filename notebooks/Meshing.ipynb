{
 "cells": [
  {
   "cell_type": "code",
   "execution_count": 10,
   "metadata": {},
   "outputs": [
    {
     "name": "stderr",
     "output_type": "stream",
     "text": [
      "WARNING:root:DOLFIN XML is a legacy format. Consider using XDMF instead.\n",
      "WARNING:root:DOLFIN XML can only handle one cell type at a time. Using tetra, discarding triangle.\n"
     ]
    }
   ],
   "source": [
    "import pygalmesh\n",
    "\n",
    "s = pygalmesh.Ball([0, 0, 0], 45.)\n",
    "mesh = pygalmesh.generate_mesh(s, cell_size=4)\n",
    "mesh.write(\"ball.xml\")"
   ]
  },
  {
   "cell_type": "code",
   "execution_count": 2,
   "metadata": {},
   "outputs": [
    {
     "name": "stdout",
     "output_type": "stream",
     "text": [
      "Clusters.ipynb             sphere_diffusion000002.vtu\r\n",
      "Correlation.ipynb          sphere_diffusion000003.vtu\r\n",
      "Fenics.ipynb               sphere_diffusion000004.vtu\r\n",
      "Meshing.ipynb              sphere_diffusion000005.vtu\r\n",
      "ball.xml                   sphere_diffusion000006.vtu\r\n",
      "ball_medit:ref.xml         sphere_diffusion000007.vtu\r\n",
      "sphere_diffusion.pvd       sphere_diffusion000008.vtu\r\n",
      "sphere_diffusion000000.vtu sphere_diffusion000009.vtu\r\n",
      "sphere_diffusion000001.vtu\r\n"
     ]
    }
   ],
   "source": [
    "!ls"
   ]
  },
  {
   "cell_type": "code",
   "execution_count": 28,
   "metadata": {},
   "outputs": [
    {
     "name": "stderr",
     "output_type": "stream",
     "text": [
      "WARNING:root:DOLFIN XML is a legacy format. Consider using XDMF instead.\n",
      "WARNING:root:DOLFIN XML can only handle one cell type at a time. Using tetra, discarding triangle.\n"
     ]
    }
   ],
   "source": [
    "radius1 = 42.5\n",
    "radius2 = 37.5\n",
    "s0 = pygalmesh.Ball([0, 0, 0], radius1)\n",
    "s1 = pygalmesh.Ball([0, 0, 0], radius2)\n",
    "u = pygalmesh.Difference(s0, s1)\n",
    "\n",
    "mesh = pygalmesh.generate_mesh(u, cell_size=4)\n",
    "mesh.write(\"shell.xml\")"
   ]
  },
  {
   "cell_type": "code",
   "execution_count": null,
   "metadata": {},
   "outputs": [],
   "source": []
  }
 ],
 "metadata": {
  "kernelspec": {
   "display_name": "Python 3",
   "language": "python",
   "name": "python3"
  },
  "language_info": {
   "codemirror_mode": {
    "name": "ipython",
    "version": 3
   },
   "file_extension": ".py",
   "mimetype": "text/x-python",
   "name": "python",
   "nbconvert_exporter": "python",
   "pygments_lexer": "ipython3",
   "version": "3.8.3"
  }
 },
 "nbformat": 4,
 "nbformat_minor": 4
}
