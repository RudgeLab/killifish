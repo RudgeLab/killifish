{
 "cells": [
  {
   "cell_type": "code",
   "execution_count": 3,
   "metadata": {},
   "outputs": [
    {
     "name": "stderr",
     "output_type": "stream",
     "text": [
      "WARNING:root:DOLFIN XML is a legacy format. Consider using XDMF instead.\n",
      "WARNING:root:DOLFIN XML can only handle one cell type at a time. Using tetra, discarding triangle.\n"
     ]
    }
   ],
   "source": [
    "import pygalmesh\n",
    "\n",
    "s = pygalmesh.Ball([0, 0, 0], 1.0)\n",
    "mesh = pygalmesh.generate_mesh(s, cell_size=0.1)\n",
    "\n",
    "mesh.write(\"ball.xml\")"
   ]
  },
  {
   "cell_type": "code",
   "execution_count": null,
   "metadata": {},
   "outputs": [],
   "source": []
  }
 ],
 "metadata": {
  "kernelspec": {
   "display_name": "Python 3",
   "language": "python",
   "name": "python3"
  },
  "language_info": {
   "codemirror_mode": {
    "name": "ipython",
    "version": 3
   },
   "file_extension": ".py",
   "mimetype": "text/x-python",
   "name": "python",
   "nbconvert_exporter": "python",
   "pygments_lexer": "ipython3",
   "version": "3.8.3"
  }
 },
 "nbformat": 4,
 "nbformat_minor": 4
}
