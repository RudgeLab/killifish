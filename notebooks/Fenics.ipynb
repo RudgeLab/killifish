{
 "cells": [
  {
   "cell_type": "code",
   "execution_count": null,
   "metadata": {},
   "outputs": [],
   "source": [
    "from fenics import *\n",
    "import numpy as np\n",
    "import matplotlib.pyplot as plt\n",
    "from dolfin import *"
   ]
  },
  {
   "cell_type": "code",
   "execution_count": null,
   "metadata": {},
   "outputs": [],
   "source": [
    "mesh = Mesh(\"shell.xml\")\n",
    "#PolygonalMeshGenerator.generate(mesh, \"ball.off\", 0.05)"
   ]
  },
  {
   "cell_type": "code",
   "execution_count": null,
   "metadata": {},
   "outputs": [],
   "source": [
    "n_steps = 10\n",
    "dt = 10./n_steps\n",
    "\n",
    "#mesh = RectangleMesh(Point(-1, -1), Point(1, 1), 100, 100)\n",
    "V = FunctionSpace(mesh, \"CG\", 1)\n",
    "u = TrialFunction(V)\n",
    "v = TestFunction(V)\n",
    "\n",
    "u0 = Constant(0)\n",
    "f = Constant(0)\n",
    "a = u*v*dx + dt*inner(grad(u), grad(v))*dx \n",
    "L = u0*v*dx + dt*f*v*dx\n",
    "bc = DirichletBC(V, Constant(0), DomainBoundary())\n",
    "A, b = assemble_system(a, L, bc)\n",
    "\n",
    "vtkfile = File('sphere_diffusion.pvd')\n",
    "u = Function(V)\n",
    "t = 0\n",
    "for step in range(n_steps):\n",
    "    t += dt\n",
    "\n",
    "    for i in range(10): \n",
    "        x = np.random.uniform(-1,1)\n",
    "        y = np.random.uniform(-1,1)\n",
    "        z = np.random.uniform(-1,1)\n",
    "        length = np.sqrt(x*x + y*y + z*z)\n",
    "        x /= length\n",
    "        y /= length        \n",
    "        z /= length\n",
    "        x *= 40\n",
    "        y *= 40\n",
    "        z *= 40\n",
    "        delta = PointSource(V, Point(x, y, z), 1)\n",
    "        delta.apply(b)\n",
    "    solve(A, u.vector(), b)\n",
    "\n",
    "    #plot(u, interactive=True)\n",
    "    vtkfile << (u, t)\n",
    "    \n",
    "    # reset rhs\n",
    "    b.zero()\n",
    "    bc.apply(b) "
   ]
  },
  {
   "cell_type": "code",
   "execution_count": null,
   "metadata": {},
   "outputs": [],
   "source": [
    "u(42,0,0)"
   ]
  },
  {
   "cell_type": "code",
   "execution_count": null,
   "metadata": {},
   "outputs": [],
   "source": [
    "x = np.linspace(-1,1,100)*0.1\n",
    "y = np.linspace(-1,1,100)*0.1\n",
    "z = np.linspace(-1,1,100)*0.1\n",
    "uu = []\n",
    "for xx in x:\n",
    "    for yy in y:\n",
    "        for zz in z:\n",
    "            uu.append(u(xx,yy,zz))\n",
    "uu = np.array(uu).reshape((100,100,100))"
   ]
  },
  {
   "cell_type": "code",
   "execution_count": null,
   "metadata": {},
   "outputs": [],
   "source": [
    "plt.imshow(uu[50,:,:])"
   ]
  },
  {
   "cell_type": "code",
   "execution_count": null,
   "metadata": {},
   "outputs": [],
   "source": [
    "plt.plot(uu[50,50,:])"
   ]
  },
  {
   "cell_type": "code",
   "execution_count": null,
   "metadata": {},
   "outputs": [],
   "source": [
    "c = mesh.coordinates()\n",
    "d = mesh.data()"
   ]
  },
  {
   "cell_type": "code",
   "execution_count": null,
   "metadata": {},
   "outputs": [],
   "source": [
    "plt.plot(c[:,0], c[:,1], '.')"
   ]
  },
  {
   "cell_type": "code",
   "execution_count": null,
   "metadata": {},
   "outputs": [],
   "source": []
  },
  {
   "cell_type": "code",
   "execution_count": null,
   "metadata": {},
   "outputs": [],
   "source": [
    "V_vec = VectorFunctionSpace(mesh, \"CG\", 1)"
   ]
  },
  {
   "cell_type": "code",
   "execution_count": null,
   "metadata": {},
   "outputs": [],
   "source": [
    "h = project(grad(u),V_vec)"
   ]
  },
  {
   "cell_type": "code",
   "execution_count": null,
   "metadata": {},
   "outputs": [],
   "source": [
    "h(0,0,40)"
   ]
  },
  {
   "cell_type": "code",
   "execution_count": null,
   "metadata": {},
   "outputs": [],
   "source": [
    "u = u*2"
   ]
  },
  {
   "cell_type": "code",
   "execution_count": null,
   "metadata": {},
   "outputs": [],
   "source": [
    "u2 = project(u, V)"
   ]
  },
  {
   "cell_type": "code",
   "execution_count": null,
   "metadata": {},
   "outputs": [],
   "source": [
    "u2(0,0,0)"
   ]
  },
  {
   "cell_type": "code",
   "execution_count": null,
   "metadata": {},
   "outputs": [],
   "source": [
    "grad(u)"
   ]
  },
  {
   "cell_type": "code",
   "execution_count": null,
   "metadata": {},
   "outputs": [],
   "source": []
  }
 ],
 "metadata": {
  "kernelspec": {
   "display_name": "Python 3",
   "language": "python",
   "name": "python3"
  },
  "language_info": {
   "codemirror_mode": {
    "name": "ipython",
    "version": 3
   },
   "file_extension": ".py",
   "mimetype": "text/x-python",
   "name": "python",
   "nbconvert_exporter": "python",
   "pygments_lexer": "ipython3",
   "version": "3.8.3"
  }
 },
 "nbformat": 4,
 "nbformat_minor": 4
}
