{
 "cells": [
  {
   "cell_type": "code",
   "execution_count": null,
   "metadata": {},
   "outputs": [],
   "source": [
    "import CellModeller.CellState\n",
    "import pickle\n",
    "import numpy as np\n",
    "import matplotlib.pyplot as plt\n",
    "from random import random\n",
    "import os"
   ]
  },
  {
   "cell_type": "code",
   "execution_count": null,
   "metadata": {},
   "outputs": [],
   "source": [
    "fname = '/Users/timrudge/cellmodeller/data/ex5_colonySector-20-04-21-14-10/step-00740.pickle'\n",
    "data = pickle.load(open(fname, 'rb'))"
   ]
  },
  {
   "cell_type": "code",
   "execution_count": null,
   "metadata": {},
   "outputs": [],
   "source": [
    "cs = data['cellStates']\n",
    "lineage = data['lineage']\n",
    "len(cs)"
   ]
  },
  {
   "cell_type": "code",
   "execution_count": null,
   "metadata": {},
   "outputs": [],
   "source": [
    "counts = {}\n",
    "counts_random = {}\n",
    "N = [0,0]\n",
    "for id1,cell1 in cs.items():\n",
    "    p1 = cell1.pos\n",
    "    parent1 = lineage[cell1.id]\n",
    "    for id2,cell2 in cs.items():\n",
    "        type1 = 1 * (cell1.n_a > cell1.n_b)\n",
    "        type2 = 1 * (cell2.n_a > cell2.n_b)\n",
    "        N[type1] += 1\n",
    "        N[type2] += 1\n",
    "        p2 = cell2.pos\n",
    "        parent2 = lineage[cell2.id]\n",
    "        d = np.sqrt( (p1[0]-p2[0])**2 + (p1[1]-p2[1])**2 )\n",
    "        idx = int(d//5)\n",
    "        if type1!=type2:\n",
    "            if idx in counts:\n",
    "                counts[idx] += 1\n",
    "            else:\n",
    "                counts[idx] = 1\n",
    "        if random()<0.5:\n",
    "            if idx in counts_random:\n",
    "                counts_random[idx] += 1\n",
    "            else:\n",
    "                counts_random[idx] = 1"
   ]
  },
  {
   "cell_type": "code",
   "execution_count": null,
   "metadata": {},
   "outputs": [],
   "source": [
    "plt.plot(list(counts.keys()), list(counts.values()), 'r.')\n",
    "print(counts.keys())\n",
    "\n",
    "plt.plot(list(counts_random.keys()), list(counts_random.values()), 'k.')\n",
    "print(counts_random.keys())"
   ]
  },
  {
   "cell_type": "code",
   "execution_count": null,
   "metadata": {},
   "outputs": [],
   "source": [
    "ratio = []\n",
    "for i in range(10):\n",
    "    ratio.append(counts[i]/counts_random[i] -1)\n",
    "plt.plot(ratio)"
   ]
  },
  {
   "cell_type": "code",
   "execution_count": null,
   "metadata": {},
   "outputs": [],
   "source": [
    "def relatedness(id1, id2, lineage):\n",
    "    p1 = id1\n",
    "    p2 = id2\n",
    "    path2 = 0\n",
    "    steps = 0\n",
    "    \n",
    "    # Find common ancestor\n",
    "    while p1!=p2 and p1!=1 and p2!=1:\n",
    "        p1 = lineage.get(p1, 1)\n",
    "        p2 = lineage.get(p2, 1)\n",
    "    if p1==p2:\n",
    "        ancestor = p1\n",
    "    else:\n",
    "        ancestor = 1\n",
    "        \n",
    "    # Find path length from cell1 to ancestor\n",
    "    path1 = 0\n",
    "    p1 = id1\n",
    "    while p1!=ancestor:\n",
    "        p1 = lineage.get(p1,1)\n",
    "        path1 += 1\n",
    "        \n",
    "    # Find path length from cell2 to ancestor\n",
    "    path2 = 0\n",
    "    p2 = id2\n",
    "    while p2!=ancestor:\n",
    "        p2 = lineage.get(p2,1)\n",
    "        path2 += 1\n",
    "        \n",
    "    rel = 2**(-path1-path2)\n",
    "    return rel"
   ]
  },
  {
   "cell_type": "code",
   "execution_count": null,
   "metadata": {},
   "outputs": [],
   "source": [
    "relatedness(10, 3, lineage)"
   ]
  },
  {
   "cell_type": "code",
   "execution_count": null,
   "metadata": {},
   "outputs": [],
   "source": [
    "dirs = [\n",
    "    'ex5_colonySector-20-04-21-14-10',\n",
    "    'ex5_colonySector-20-04-21-14-14',\n",
    "    'ex5_colonySector-20-04-21-14-16',\n",
    "    'ex5_colonySector-20-04-21-14-16_2',\n",
    "    'ex5_colonySector-20-04-21-14-22',\n",
    "    'ex5_colonySector-20-04-21-14-22_2'\n",
    "]\n",
    "\n",
    "counts = {}\n",
    "sum_rel = {}\n",
    "\n",
    "for d in dirs:\n",
    "    fname = os.path.join('/Users/timrudge/cellmodeller/data', d, 'step-00740.pickle')\n",
    "    data = pickle.load(open(fname, 'rb'))\n",
    "    cs = data['cellStates']\n",
    "    lineage = data['lineage']\n",
    "    for id1,cell1 in cs.items():\n",
    "        p1 = cell1.pos\n",
    "        for id2,cell2 in cs.items():\n",
    "            if id1!=id2:\n",
    "                p2 = cell2.pos\n",
    "                d = np.sqrt( (p1[0]-p2[0])**2 + (p1[1]-p2[1])**2 )\n",
    "                idx = int(d//5)\n",
    "                if idx in counts:\n",
    "                    counts[idx] += 1\n",
    "                else:\n",
    "                    counts[idx] = 1\n",
    "                rel = relatedness(id1, id2, lineage)\n",
    "                if idx in sum_rel:\n",
    "                    sum_rel[idx] += rel\n",
    "                else:\n",
    "                    sum_rel[idx] = rel\n"
   ]
  },
  {
   "cell_type": "code",
   "execution_count": null,
   "metadata": {},
   "outputs": [],
   "source": [
    "counts_r = np.array(list(counts.keys())) * 5.\n",
    "sum_rel_r = np.array(list(sum_rel.keys())) * 5.\n",
    "\n",
    "counts = np.array(list(counts.values()))\n",
    "sum_rel = np.array(list(sum_rel.values()))"
   ]
  },
  {
   "cell_type": "code",
   "execution_count": null,
   "metadata": {},
   "outputs": [],
   "source": [
    "plt.plot(counts_r, counts, 'r.')\n",
    "plt.figure()\n",
    "plt.plot(sum_rel_r, sum_rel, 'r.')\n",
    "plt.figure()\n",
    "plt.plot(sum_rel_r, sum_rel/counts, 'k.')\n",
    "plt.figure()\n",
    "plt.plot(sum_rel_r, np.log(sum_rel/counts), 'k.')\n",
    "plt.figure()\n",
    "plt.plot(np.log(sum_rel_r+2.5), np.log(sum_rel/counts), 'k.')"
   ]
  },
  {
   "cell_type": "code",
   "execution_count": null,
   "metadata": {},
   "outputs": [],
   "source": [
    "x = np.log(sum_rel_r+2.5)\n",
    "y = np.log(sum_rel/counts)\n",
    "\n",
    "z = np.polyfit(x, y, deg=1)\n",
    "print(z)\n",
    "\n",
    "plt.plot(sum_rel_r, np.log(sum_rel_r)*z[0] + z[1], 'r.')\n",
    "plt.plot(sum_rel_r, np.log(sum_rel/counts), 'k.')\n",
    "\n",
    "plt.figure()\n",
    "plt.plot(np.log(sum_rel_r+2.5), np.log(sum_rel_r)*z[0] + z[1], 'r.')\n",
    "plt.plot(np.log(sum_rel_r+2.5), np.log(sum_rel/counts), 'k.')"
   ]
  },
  {
   "cell_type": "code",
   "execution_count": null,
   "metadata": {},
   "outputs": [],
   "source": [
    "np.any(~np.isfinite(sum_rel/counts))"
   ]
  },
  {
   "cell_type": "code",
   "execution_count": null,
   "metadata": {},
   "outputs": [],
   "source": [
    "# Compute Moran's I\n",
    "dirs = [\n",
    "    'ex5_colonySector-20-04-21-14-10',\n",
    "    #'ex5_colonySector-20-04-21-14-14',\n",
    "    #'ex5_colonySector-20-04-21-14-16',\n",
    "    #'ex5_colonySector-20-04-21-14-16_2',\n",
    "    #'ex5_colonySector-20-04-21-14-22',\n",
    "    #'ex5_colonySector-20-04-21-14-22_2'\n",
    "]\n",
    "\n",
    "Is = []\n",
    "for d in dirs:\n",
    "    fname = os.path.join('/Users/timrudge/cellmodeller/data', d, 'step-00340.pickle')\n",
    "    data = pickle.load(open(fname, 'rb'))\n",
    "    cs = data['cellStates']\n",
    "\n",
    "    # Compute mean x where x=n_a number of plasmid type a\n",
    "    n_a = [cell.n_a for id,cell in cs.items()]\n",
    "    x_mean = np.mean(n_a)\n",
    "\n",
    "    # Compute numerator and denominator of Moran's I\n",
    "    sum_dev_x1 = 0\n",
    "    sum_codev = 0\n",
    "    W = 0\n",
    "    for id1,cell1 in cs.items():\n",
    "        p1 = cell1.pos\n",
    "        x1 = cell1.n_a\n",
    "        sum_dev_x1 += (x1-x_mean)**2\n",
    "        for id2,cell2 in cs.items():\n",
    "            if id1!=id2:\n",
    "                p2 = cell2.pos\n",
    "                x2 = cell2.n_a\n",
    "                d = np.sqrt( (p1[0]-p2[0])**2 + (p1[1]-p2[1])**2 )\n",
    "                w12 = 1/d/d\n",
    "                W += w12\n",
    "                sum_codev += w12 * (x1-x_mean) * (x2-x_mean)\n",
    "    N = len(cs)\n",
    "    I = N/W * sum_codev / sum_dev_x1\n",
    "    Is.append(I)"
   ]
  },
  {
   "cell_type": "code",
   "execution_count": null,
   "metadata": {},
   "outputs": [],
   "source": [
    "print(x_mean)\n",
    "print(np.sqrt(sum_dev_x1/N))\n",
    "print(Is)"
   ]
  },
  {
   "cell_type": "code",
   "execution_count": null,
   "metadata": {},
   "outputs": [],
   "source": []
  }
 ],
 "metadata": {
  "kernelspec": {
   "display_name": "Python 3",
   "language": "python",
   "name": "python3"
  },
  "language_info": {
   "codemirror_mode": {
    "name": "ipython",
    "version": 3
   },
   "file_extension": ".py",
   "mimetype": "text/x-python",
   "name": "python",
   "nbconvert_exporter": "python",
   "pygments_lexer": "ipython3",
   "version": "3.8.3"
  }
 },
 "nbformat": 4,
 "nbformat_minor": 4
}
