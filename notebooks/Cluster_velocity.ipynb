{
 "cells": [
  {
   "cell_type": "code",
   "execution_count": null,
   "metadata": {},
   "outputs": [],
   "source": [
    "import pickle\n",
    "import matplotlib.pyplot as plt\n",
    "import networkx as nx\n",
    "import numpy as np\n",
    "import os\n",
    "import pandas as pd\n",
    "import math\n",
    "from statistics import mean\n",
    "from matplotlib import cm\n",
    "from numpy import linalg as LA\n",
    "import pickle5 as pickle\n",
    "\n",
    "import warnings\n",
    "warnings.simplefilter(\"ignore\")"
   ]
  },
  {
   "cell_type": "markdown",
   "metadata": {},
   "source": [
    "### Velocity for single clusters"
   ]
  },
  {
   "cell_type": "code",
   "execution_count": null,
   "metadata": {},
   "outputs": [],
   "source": [
    "\n",
    "fname = os.path.join('../../../cellmodeller/data/killifish/Sims 11-05_long/Wc__0_75__psi__2__D__1__ftax__0__500__cells_sphere__25__forg__0-20-11-05-12-14', 'step-%05d.pickle')\n",
    "#fname = os.path.join(\"/Users/emysk/Desktop/ipre3/killifish/data/Wc__1__psi__0_5__D__0_5__ftax__0__500__cells_sphere__15__forg__0-20-10-22-16-43\", 'step-%05d.pickle')\n",
    "\n",
    "single_clusters_time_step = []\n",
    "\n",
    "#finding the time step where one cluster forms\n",
    "for t in range(0,10000,10):\n",
    "    # Get the cell states\n",
    "    data = pickle.load(open(fname%t, 'rb'))\n",
    "    cs = data['cellStates']\n",
    "        # Construct a graph with cells as nodes and cell-cell contacts as edges\n",
    "    G = nx.Graph()\n",
    "    for id,cell in cs.items():\n",
    "        for n in cell.neighbours:\n",
    "            G.add_edge(id, n)\n",
    "        \n",
    "    for c in nx.connected_components(G):\n",
    "        if len(c) == 500:\n",
    "            single_clusters_time_step.append(t)\n",
    "\n",
    "\n",
    "# mean position for all cells in each time step\n",
    "all_mean_pos = []\n",
    "for t in range(0,10000,10):\n",
    "    for time in single_clusters_time_step:\n",
    "        if t == time:\n",
    "            data = pickle.load(open(fname%t, 'rb'))\n",
    "            cs = data['cellStates']\n",
    "            cell_pos = []\n",
    "            for id,state in cs.items():\n",
    "                cell_pos.append(state.pos)\n",
    "            cell_array_pos = np.array(cell_pos)\n",
    "            all_mean_pos.append(cell_array_pos.mean(axis=0))\n",
    "            \n",
    "#velocity of cluster between each time step\n",
    "velocities = []\n",
    "for p in range(1, len(all_mean_pos)):\n",
    "    vector = all_mean_pos[p] - all_mean_pos[p - 1]\n",
    "    velocity = LA.norm(vector)\n",
    "    #print(velocity)\n",
    "    velocities.append(velocity)"
   ]
  }
 ],
 "metadata": {
  "kernelspec": {
   "display_name": "Python 3",
   "language": "python",
   "name": "python3"
  },
  "language_info": {
   "codemirror_mode": {
    "name": "ipython",
    "version": 3
   },
   "file_extension": ".py",
   "mimetype": "text/x-python",
   "name": "python",
   "nbconvert_exporter": "python",
   "pygments_lexer": "ipython3",
   "version": "3.7.7"
  }
 },
 "nbformat": 4,
 "nbformat_minor": 4
}
