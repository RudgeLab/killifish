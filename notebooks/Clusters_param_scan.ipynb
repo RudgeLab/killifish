{
 "cells": [
  {
   "cell_type": "code",
   "execution_count": null,
   "metadata": {},
   "outputs": [],
   "source": [
    "import pickle\n",
    "import matplotlib.pyplot as plt\n",
    "import networkx as nx\n",
    "import numpy as np\n",
    "import os\n",
    "import pandas as pd"
   ]
  },
  {
   "cell_type": "code",
   "execution_count": null,
   "metadata": {},
   "outputs": [],
   "source": [
    "# param_scan:\n",
    "#Wc=[1]\n",
    "#psi=[0,1]\n",
    "#D=[0.1,0.5,0.1]\n",
    "#ftax=[0]\n",
    "#sphere_rads = [100, 50, 25, 15]\n",
    "#file name=Wc__%g__psi__%g__D__%g__ftax__%g__%d_cells_sphere_%d'"
   ]
  },
  {
   "cell_type": "code",
   "execution_count": null,
   "metadata": {},
   "outputs": [],
   "source": [
    "#file_path = '/Users/timrudge/cellmodeller/data/param_scan_psi_hd_10x/'\n",
    "file_path = '../../../cellmodeller/data/'\n",
    "\n",
    "# Location of the data we want to analyse, assume all folders are results\n",
    "folders = os.listdir(file_path)\n",
    "\n",
    "df = pd.DataFrame(columns=['Wc', 'psi', 'D', 'density', 'time', 'max_size', 'mean_size', 'number'])\n",
    "df_dist = pd.DataFrame(columns=['Wc', 'psi', 'D', 'density', 'time', 'size'])\n",
    "\n",
    "\n",
    "for folder in folders:\n",
    "    fname = os.path.join(file_path, folder, 'step-%05d.pickle')\n",
    "    \n",
    "    # Extract parameters from folder name\n",
    "    parts = fname.split('__')\n",
    "    Wc = float(parts[1].replace('_', '.'))\n",
    "    psi = float(parts[3].replace('_', '.'))\n",
    "    D = float(parts[5].replace('_', '.'))\n",
    "    N = int(parts[8].split('_')[0])\n",
    "    sphere_rad = float(parts[8].split('_')[3].split('-')[0])\n",
    "    density = N / (4 * sphere_rad**2)\n",
    "    \n",
    "    # Look at the first 1000 time steps of this simulation\n",
    "    for t in range(0,1000,10):\n",
    "        # Get the cell states\n",
    "        data = pickle.load(open(fname%t, 'rb'))\n",
    "        cs = data['cellStates']\n",
    "        # Construct a graph with cells as nodes and cell-cell contacts as edges\n",
    "        G = nx.Graph()\n",
    "        for id,cell in cs.items():\n",
    "            for n in cell.neighbours:\n",
    "                G.add_edge(id, n)\n",
    "        # Get the sizes of the connected components = clusters\n",
    "        sizes = [len(c) for c in nx.connected_components(G)]\n",
    "        if len(sizes)>0:\n",
    "            # Dominant cluster size\n",
    "            max_size = np.max(sizes)\n",
    "            mean_size = np.mean(sizes)\n",
    "            # Count the number of clusters, including single cells\n",
    "            number = nx.number_connected_components(G) + N - np.sum(sizes)\n",
    "            row = {\n",
    "                'Wc': Wc, \n",
    "                'psi':psi,\n",
    "                'D': D,\n",
    "                'time':t, \n",
    "                'density':density,\n",
    "                'max_size':max_size, \n",
    "                'mean_size':mean_size, \n",
    "                'number':number,\n",
    "            }\n",
    "            df = df.append(row, ignore_index=True)\n",
    "            rows = pd.DataFrame()\n",
    "            rows['size'] = sizes\n",
    "            rows['Wc'], rows['psi'], rows['D'], rows['time'], rows['density'] = Wc, psi, D, t, density\n",
    "            df_dist = df_dist.append(rows)"
   ]
  },
  {
   "cell_type": "code",
   "execution_count": null,
   "metadata": {},
   "outputs": [],
   "source": [
    "# param_scan:\n",
    "#Wc=[1]\n",
    "#psi=[0,1]\n",
    "#D=[0.1,0.5,0.1]\n",
    "#ftax=[0]\n",
    "#sphere_rads (density) = [100, 50, 25, 15]\n",
    "#file name=Wc__%g__psi__%g__D__%g__ftax__%g__%d_cells_sphere_%d'"
   ]
  },
  {
   "cell_type": "code",
   "execution_count": null,
   "metadata": {},
   "outputs": [],
   "source": [
    "#group psi, D, sphere_rads = 2*3*4 = 24"
   ]
  },
  {
   "cell_type": "markdown",
   "metadata": {},
   "source": [
    "### mean_size"
   ]
  },
  {
   "cell_type": "code",
   "execution_count": null,
   "metadata": {},
   "outputs": [],
   "source": [
    "plt.rcParams['figure.figsize'] = 15, 8\n",
    "fig,axs = plt.subplots(3,4)\n",
    "\n",
    "i = 0\n",
    "for D, gg_D in df.groupby('D'):\n",
    "    for sr, gg_sr in gg_D.groupby('density'):\n",
    "        legend = []\n",
    "        for psi, gg_psi in gg_sr.groupby('psi'):            \n",
    "            mean = gg_psi.sort_values('time').groupby('time').mean()\n",
    "            mean.plot(y='mean_size', ax=axs[i // 4][i % 4], loglog=True, style='.-')\n",
    "            legend.append(r'$\\psi=%0.2g$, $\\phi=%0.2g$, D=%0.2g'%(psi,sr, D))\n",
    "            #print(f\"D: {D}, sr: {sr}, psi: {psi}, \")\n",
    "        axs[i // 4][i % 4].legend(legend)\n",
    "        log_min = np.log10(mean2['mean_size'].min())\n",
    "        axs[i // 4][i % 4].plot([1e1,1e3], [10**log_min, 10**(log_min+3/3)], 'k--')\n",
    "        i+=1\n",
    "\n",
    "plt.suptitle('Mean cluster size')\n",
    "plt.tight_layout()"
   ]
  },
  {
   "cell_type": "code",
   "execution_count": null,
   "metadata": {
    "scrolled": true
   },
   "outputs": [],
   "source": []
  },
  {
   "cell_type": "code",
   "execution_count": null,
   "metadata": {},
   "outputs": [],
   "source": [
    "gg_psi['Wc'].iloc[0]"
   ]
  },
  {
   "cell_type": "markdown",
   "metadata": {},
   "source": [
    "### max_size"
   ]
  },
  {
   "cell_type": "code",
   "execution_count": null,
   "metadata": {},
   "outputs": [],
   "source": [
    "plt.rcParams['figure.figsize'] = 15, 8\n",
    "fig,axs = plt.subplots(3,4)\n",
    "\n",
    "i = 0\n",
    "for D, gg_D in df.groupby('D'):\n",
    "    for sr, gg_sr in gg_D.groupby('density'):\n",
    "        legend = []\n",
    "        for psi, gg_psi in gg_sr.groupby('psi'):            \n",
    "            mean = gg_psi.sort_values('time').groupby('time').mean()\n",
    "            mean.plot(y='max_size', ax=axs[i // 4][i % 4], loglog=True, style='.-')\n",
    "            legend.append(r'$\\psi=%0.2g$, $\\phi=%0.2g$, D=%0.2g'%(psi,sr, D))\n",
    "            #print(f\"D: {D}, sr: {sr}, psi: {psi}, \")\n",
    "        axs[i // 4][i % 4].legend(legend)\n",
    "        log_min = np.log10(mean2['mean_size'].min())\n",
    "        axs[i // 4][i % 4].plot([1e1,1e3], [10**log_min, 10**(log_min+3/3)], 'k--')\n",
    "        i+=1\n",
    "\n",
    "plt.suptitle('Max cluster size')\n",
    "plt.tight_layout()"
   ]
  },
  {
   "cell_type": "markdown",
   "metadata": {},
   "source": [
    "### Dists"
   ]
  },
  {
   "cell_type": "code",
   "execution_count": null,
   "metadata": {},
   "outputs": [],
   "source": [
    "gg = df_ld_dist[(df_ld_dist.time==990) * (df_ld_dist.Wc==1) * (df_ld_dist.psi==1) * (df_ld_dist.D==0.1) * (df_ld_dist.density==0.1)]\n",
    "plt.hist(gg['size'], bins=20, log=True, alpha=0.5)\n",
    "gg = df_ld_dist[(df_ld_dist.time==990) * (df_ld_dist.Wc==1) * (df_ld_dist.psi==0)]\n",
    "plt.hist(gg['size'], bins=20, log=True, alpha=0.5)\n",
    "plt.legend(['$\\psi=1$', '$\\psi=0$'])\n",
    "\n",
    "plt.figure()\n",
    "gg = df_md_dist[(df_md_dist.time==990) * (df_md_dist.Wc==1) * (df_md_dist.psi==1)]\n",
    "plt.hist(gg['size'], bins=20, log=True, alpha=0.5)\n",
    "gg = df_md_dist[(df_md_dist.time==990) * (df_md_dist.Wc==1) * (df_md_dist.psi==0)]\n",
    "plt.hist(gg['size'], bins=20, log=True, alpha=0.5)\n",
    "plt.legend(['$\\psi=1$', '$\\psi=0$'])"
   ]
  },
  {
   "cell_type": "code",
   "execution_count": null,
   "metadata": {},
   "outputs": [],
   "source": [
    "df.head()"
   ]
  },
  {
   "cell_type": "code",
   "execution_count": null,
   "metadata": {},
   "outputs": [],
   "source": [
    "df_dist.head()"
   ]
  },
  {
   "cell_type": "code",
   "execution_count": null,
   "metadata": {},
   "outputs": [],
   "source": [
    "df[df.time==990][df.psi==1].sort_values('Wc').plot(x='Wc', y='number', style='-')\n",
    "df[df.time==990][df.psi==1].sort_values('Wc').plot(x='Wc', y='max_size', style='-')\n",
    "df[df.time==990][df.psi==1].sort_values('Wc').plot(x='Wc', y='mean_size', style='-')"
   ]
  },
  {
   "cell_type": "code",
   "execution_count": null,
   "metadata": {},
   "outputs": [],
   "source": [
    "dfend = df[df.time==990]\n",
    "c1,bins1 = pd.cut(dfend.Wc, bins=10, retbins=True)\n",
    "c2,bins2 = pd.cut(dfend.psi, bins=10, retbins=True) \n",
    "hm_number = dfend.groupby([c1, c2]).number.mean().unstack()\n",
    "hm_max_size = dfend.groupby([c1, c2]).max_size.mean().unstack()\n",
    "hm_mean_size = dfend.groupby([c1, c2]).mean_size.mean().unstack()"
   ]
  },
  {
   "cell_type": "code",
   "execution_count": null,
   "metadata": {},
   "outputs": [],
   "source": [
    "fig,axs = plt.subplots(2,1, figsize=(5,7))\n",
    "df_Wc1 = df[df.Wc==1]\n",
    "grouped = df_Wc1.groupby('psi')\n",
    "for psi,g in grouped:\n",
    "    mean = g.sort_values('time').groupby('time').mean()\n",
    "    mean.plot(y='number', ax=axs[0], loglog=True, style='-.')\n",
    "    mean.plot(y='mean_size', ax=axs[1], loglog=True, style='-.')\n",
    "legend = ['$\\psi=%0.2g$'%psi for psi,g in grouped]\n",
    "axs[0].legend([])\n",
    "axs[1].legend(legend, loc=(1.1,0))\n",
    "axs[0].plot([1e1,1e3], [10**1.5, 10**(1.5-2/3)], 'k--')\n",
    "axs[0].set_ylim([1e0,1e2])\n",
    "axs[1].plot([1e1,1e3], [1e2, 10**(2+2/3)], 'k--')\n",
    "axs[1].set_ylim([10**1.75,1e3])\n",
    "plt.tight_layout()"
   ]
  },
  {
   "cell_type": "code",
   "execution_count": null,
   "metadata": {},
   "outputs": [],
   "source": []
  }
 ],
 "metadata": {
  "kernelspec": {
   "display_name": "Python 3",
   "language": "python",
   "name": "python3"
  },
  "language_info": {
   "codemirror_mode": {
    "name": "ipython",
    "version": 3
   },
   "file_extension": ".py",
   "mimetype": "text/x-python",
   "name": "python",
   "nbconvert_exporter": "python",
   "pygments_lexer": "ipython3",
   "version": "3.8.3"
  }
 },
 "nbformat": 4,
 "nbformat_minor": 4
}
