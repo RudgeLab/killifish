{
 "cells": [
  {
   "cell_type": "code",
   "execution_count": null,
   "id": "c4338c58",
   "metadata": {},
   "outputs": [],
   "source": [
    "import pickle\n",
    "import matplotlib.pyplot as plt\n",
    "import numpy as np\n",
    "import os\n",
    "import pandas as pd\n",
    "import math\n",
    "from statistics import mean\n",
    "from matplotlib import cm\n",
    "\n",
    "import warnings\n",
    "warnings.simplefilter(\"ignore\")"
   ]
  },
  {
   "cell_type": "markdown",
   "id": "ec7cbec1",
   "metadata": {},
   "source": [
    "## Figure 5"
   ]
  },
  {
   "cell_type": "markdown",
   "id": "6a85f07c",
   "metadata": {},
   "source": [
    "### Max cluster size"
   ]
  },
  {
   "cell_type": "code",
   "execution_count": null,
   "id": "a5c4303c",
   "metadata": {},
   "outputs": [],
   "source": [
    "df= pd.read_json('df_sims_10-21_index.JSON')"
   ]
  },
  {
   "cell_type": "code",
   "execution_count": null,
   "id": "71d106ea",
   "metadata": {},
   "outputs": [],
   "source": [
    "plt.rcParams['figure.figsize'] = 8,8\n",
    "ds_gg = df.groupby('density')\n",
    "for ds, ds_df in ds_gg:\n",
    "    df_heatmap = ds_df.pivot_table(values='max_size',\n",
    "                            index='psi',\n",
    "                            columns='Wc', aggfunc=np.mean)\n",
    "    df_heatmap = df_heatmap.sort_index(axis=0, ascending=False)\n",
    "\n",
    "    fig, ax = plt.subplots()\n",
    "\n",
    "    im = ax.imshow(df_heatmap,vmin=1, vmax=500)#vmax=df_heatmap.max().max())\n",
    "\n",
    "    # We want to show all ticks...\n",
    "    ax.set_xticks(np.arange(len(df_heatmap.columns)))\n",
    "    ax.set_yticks(np.arange(len(df_heatmap.index)))\n",
    "    # ... and label them with the respective list entries\n",
    "    ax.set_xticklabels(df_heatmap.columns, fontsize=16)\n",
    "    ax.set_yticklabels(df_heatmap.index, fontsize=18)\n",
    "    # Set axis titles\n",
    "    ax.set_xlabel(\"$W_c$\", fontsize=26)\n",
    "    #ax.set_ylabel(\"$\\psi$\", fontsize=26)\n",
    "    \n",
    "    # colorbar set up\n",
    "    cb = plt.colorbar(im,fraction=0.046, pad=0.04)\n",
    "    cb.ax.tick_params(labelsize=18)\n",
    "    cb.set_label(\"Maximum cluster size\",size=20)\n",
    "\n",
    "    ax.set_title(f\"$\\phi$={round(ds, 2)}\", fontsize=26)\n",
    "    fig.tight_layout()\n",
    "    fig.savefig(f\"heatmap__dens__{round(ds, 2)}.png\", dpi=300)\n",
    "plt.show()"
   ]
  },
  {
   "cell_type": "markdown",
   "id": "b58401af",
   "metadata": {},
   "source": [
    "## Figure 6"
   ]
  },
  {
   "cell_type": "code",
   "execution_count": null,
   "id": "e132f853",
   "metadata": {},
   "outputs": [],
   "source": [
    "df = pd.read_json('df_sims_09_24.JSON')"
   ]
  },
  {
   "cell_type": "markdown",
   "id": "7c657763",
   "metadata": {},
   "source": [
    "### Slopes for different CILs"
   ]
  },
  {
   "cell_type": "code",
   "execution_count": null,
   "id": "3c683e99",
   "metadata": {},
   "outputs": [],
   "source": [
    "plt.rcParams['figure.figsize'] = 5, 4\n",
    "df_D01 = df[(df.D==1.0)&(df.Wc==1)].groupby(['psi','density'\n",
    "            ]).size().reset_index().rename(columns={0:'Count'})\n",
    "\n",
    "for id, col in df_D01.iterrows():\n",
    "    legend = []\n",
    "    df_plot = df[(df.D==1.0)&(df.Wc==1)&(df.density==col['density'])]\n",
    "    for psi, df_psi in df_plot.groupby('psi'):\n",
    "        plotdata = df_psi.groupby('time').mean()\n",
    "        plt.loglog(plotdata.index, plotdata.max_size, '.', label=f\"$\\psi$={psi}\")\n",
    "        \n",
    "        A, B = np.polyfit(np.log10(plotdata.index[1:]), np.log10(plotdata.max_size[1:]), 1)\n",
    "        print(A)\n",
    "        plt.loglog(plotdata.index[1:], 10**(np.log10(plotdata.index)[1:]*A+B),'--',color='k',label='_nolegend_')\n",
    "        legend.append(psi)\n",
    "        \n",
    "   \n",
    "    plt.title(f\"$\\phi$={round(col['density'],2)}\")\n",
    "    plt.xlabel('Time',fontsize=13)\n",
    "    plt.ylabel('N° of Clusters',fontsize=13)\n",
    "    \n",
    "    plt.legend(legend, title=r'$\\psi$')\n",
    "    #plt.savefig(f\"maxsize_log__dens__{round(col['density'],2)}.png\")\n",
    "    plt.show()"
   ]
  },
  {
   "cell_type": "markdown",
   "id": "68db5d41",
   "metadata": {},
   "source": [
    "## Figure 8"
   ]
  },
  {
   "cell_type": "markdown",
   "id": "012f275d",
   "metadata": {},
   "source": [
    "### Dynamics"
   ]
  },
  {
   "cell_type": "code",
   "execution_count": null,
   "id": "9c4d90bf",
   "metadata": {},
   "outputs": [],
   "source": [
    "df = pd.read_json('df_chem_05_31.JSON')"
   ]
  },
  {
   "cell_type": "code",
   "execution_count": null,
   "id": "df42bfee",
   "metadata": {},
   "outputs": [],
   "source": [
    "plt.rcParams['figure.figsize'] = 7, 5\n",
    "# params dataframe\n",
    "df_D01 = df[(df.D==1)&(df.psi.isin([0,2]))&(df.forg.isin([0.01, 0.1, 1]))].groupby(['Wc', 'forg']).size().reset_index().rename(columns={0:'Count'})\n",
    "\n",
    "for id, col in df_D01.iterrows():\n",
    "    legend = []\n",
    "    df_plot = df[(df.Wc==col['Wc'])&(df.forg==col['forg'])]\n",
    "    for Wc, df_Wc in df_plot.groupby('Wc'):\n",
    "        for forg, df_forg in df_Wc.groupby('forg'):\n",
    "            for psi, df_psi in df_forg.groupby('psi'):\n",
    "                print(f\"Params: Wc={Wc}, forg={forg}, psi={psi}\")\n",
    "                plotdata = df_psi.groupby('time').mean()\n",
    "                plt.loglog(plotdata.index, plotdata.max_size, '.', label=f\"$\\psi$={psi}\", markeredgewidth=4)\n",
    "                \"\"\"\n",
    "                # curve fitting\n",
    "                A, B = np.polyfit(np.log10(plotdata.index[1:]), np.log10(plotdata.max_size[1:]), 1)\n",
    "                print(f\"Fit params: A={A}, B={B}\")\n",
    "                plt.loglog(plotdata.index[1:], 10**(np.log10(plotdata.index)[1:]*A+B),'--',color='k',label='_nolegend_', linewidth=4)\n",
    "                \"\"\"\n",
    "                legend.append(round(psi))\n",
    "                \n",
    "   \n",
    "            #plt.title(f\"$\\phi$={round(col['density'],2)}\", fontsize=20)\n",
    "            plt.ylim(1,500)\n",
    "            plt.xlabel('Time',fontsize=20)\n",
    "            plt.ylabel('Maximum cluster size',fontsize=20)\n",
    "            plt.xticks(fontsize=14)\n",
    "            plt.yticks(fontsize=14)\n",
    "            plt.tight_layout()\n",
    "\n",
    "            plt.legend(legend, title=r'$\\psi$')\n",
    "            plt.savefig(f\"maxsize_Wc__{Wc}__forg__{forg}.png\")\n",
    "            plt.show()"
   ]
  }
 ],
 "metadata": {
  "kernelspec": {
   "display_name": "Python 3 (ipykernel)",
   "language": "python",
   "name": "python3"
  },
  "language_info": {
   "codemirror_mode": {
    "name": "ipython",
    "version": 3
   },
   "file_extension": ".py",
   "mimetype": "text/x-python",
   "name": "python",
   "nbconvert_exporter": "python",
   "pygments_lexer": "ipython3",
   "version": "3.9.12"
  }
 },
 "nbformat": 4,
 "nbformat_minor": 5
}
